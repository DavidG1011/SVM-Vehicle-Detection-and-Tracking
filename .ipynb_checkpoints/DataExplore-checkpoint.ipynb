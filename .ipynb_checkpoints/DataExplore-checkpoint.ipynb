{
 "cells": [
  {
   "cell_type": "code",
   "execution_count": 1,
   "metadata": {
    "collapsed": true
   },
   "outputs": [],
   "source": [
    "import glob\n",
    "import matplotlib.image as mpimg\n",
    "import matplotlib.pyplot as plt\n",
    "from PIL import Image\n",
    "import csv\n",
    "import cv2\n",
    "import numpy as np \n",
    "import os\n",
    "\n",
    "%matplotlib inline"
   ]
  },
  {
   "cell_type": "code",
   "execution_count": 2,
   "metadata": {
    "collapsed": true
   },
   "outputs": [],
   "source": [
    "imagelist = []\n",
    "with open('/Users/Admin/Desktop/vehicle/labels.csv', 'r') as f:\n",
    "    reader = csv.reader(f)\n",
    "    csvdata = list(reader)\n",
    "\n",
    "for i in range(1,len(csvdata)):\n",
    "    imagelist.append(csvdata[i][4])"
   ]
  },
  {
   "cell_type": "code",
   "execution_count": 7,
   "metadata": {},
   "outputs": [],
   "source": [
    "c = -29\n",
    "k = 0\n",
    "\n",
    "for i in range(0,len(imagelist),30):\n",
    "    c += 30\n",
    "    j = imagelist[i]\n",
    "    k += 1\n",
    "    imgstring = '/Users/Admin/Desktop/vehicle/object-detection-crowdai/' + j\n",
    "    img = Image.open(imgstring)\n",
    "    outstring = \"/Users/Admin/Desktop/vehicle/output/\" + str(k) + \".png\"\n",
    "    xmin = int(csvdata[c][0])\n",
    "    xmax = int(csvdata[c][1])\n",
    "    ymin = int(csvdata[c][2])\n",
    "    ymax = int(csvdata[c][3])\n",
    "    img2 = img.crop((xmin,xmax,ymin,ymax))\n",
    "    img2 = np.copy(img2)\n",
    "    size = (64,64)\n",
    "    try:\n",
    "        resized = cv2.resize(img2,size)\n",
    "    except TypeError:\n",
    "        pass\n",
    "    cv2.imwrite(outstring,resized)"
   ]
  },
  {
   "cell_type": "code",
   "execution_count": 111,
   "metadata": {},
   "outputs": [
    {
     "name": "stdout",
     "output_type": "stream",
     "text": [
      "785\n",
      "533\n",
      "905\n",
      "644\n"
     ]
    }
   ],
   "source": [
    "with open('/Users/Admin/Desktop/vehicle/labels.csv', 'r') as f:\n",
    "    reader = csv.reader(f)\n",
    "    csvdata = list(reader)\n",
    "\n",
    "num = 1\n",
    "\n",
    "xmin = int(csvdata[num][0])\n",
    "xmax = int(csvdata[num][1])\n",
    "ymin = int(csvdata[num][2])\n",
    "ymax = int(csvdata[num][3])\n",
    "\n",
    "print(xmin)\n",
    "print(xmax)\n",
    "print(ymin)\n",
    "print(ymax)"
   ]
  },
  {
   "cell_type": "code",
   "execution_count": null,
   "metadata": {
    "collapsed": true
   },
   "outputs": [],
   "source": []
  },
  {
   "cell_type": "code",
   "execution_count": 112,
   "metadata": {},
   "outputs": [
    {
     "data": {
      "text/plain": [
       "<matplotlib.image.AxesImage at 0x1d0d38ad780>"
      ]
     },
     "execution_count": 112,
     "metadata": {},
     "output_type": "execute_result"
    },
    {
     "data": {
      "image/png": "[encoded data removed]",
      "text/plain": [
       "<matplotlib.figure.Figure at 0x1d0cf5e4e48>"
      ]
     },
     "metadata": {},
     "output_type": "display_data"
    }
   ],
   "source": [
    "newim = Image.open(imlist[num-1])\n",
    "\n",
    "\n",
    "img2 = newim.crop((xmin, xmax, ymin, ymax))\n",
    "newi = np.copy(img2)\n",
    "size = (64,64)\n",
    "resized = cv2.resize(newi,size)\n",
    "\n",
    "plt.imshow(resized)"
   ]
  },
  {
   "cell_type": "code",
   "execution_count": null,
   "metadata": {
    "collapsed": true
   },
   "outputs": [],
   "source": []
  }
 ],
 "metadata": {
  "kernelspec": {
   "display_name": "Python 3",
   "language": "python",
   "name": "python3"
  },
  "language_info": {
   "codemirror_mode": {
    "name": "ipython",
    "version": 3
   },
   "file_extension": ".py",
   "mimetype": "text/x-python",
   "name": "python",
   "nbconvert_exporter": "python",
   "pygments_lexer": "ipython3",
   "version": "3.5.2"
  },
  "widgets": {
   "state": {},
   "version": "1.1.2"
  }
 },
 "nbformat": 4,
 "nbformat_minor": 2
}
