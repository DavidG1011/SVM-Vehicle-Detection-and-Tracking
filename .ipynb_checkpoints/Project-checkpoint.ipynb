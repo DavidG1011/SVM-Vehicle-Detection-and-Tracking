{
 "cells": [
  {
   "cell_type": "code",
   "execution_count": 18,
   "metadata": {
    "collapsed": true
   },
   "outputs": [],
   "source": [
    "import glob\n",
    "import matplotlib.image as mpimg\n",
    "import matplotlib.pyplot as plt"
   ]
  },
  {
   "cell_type": "code",
   "execution_count": 21,
   "metadata": {},
   "outputs": [
    {
     "name": "stdout",
     "output_type": "stream",
     "text": [
      "Loaded car list with 8792 images.\n",
      "Loaded non-car list with 8968 images.\n",
      "Image shape: (64, 64, 3)\n"
     ]
    },
    {
     "data": {
      "text/plain": [
       "<matplotlib.image.AxesImage at 0x191de862cc0>"
      ]
     },
     "execution_count": 21,
     "metadata": {},
     "output_type": "execute_result"
    }
   ],
   "source": [
    "carlist = glob.glob('/Users/Admin/Desktop/vehicles/**/*.png', recursive = True)\n",
    "notcarlist = glob.glob('/Users/Admin/Desktop/non-vehicles/**/*.png', recursive = True)\n",
    "\n",
    "print(\"Loaded car list with\", len(carlist), \"images.\")\n",
    "print(\"Loaded non-car list with\", len(notcarlist), \"images.\")\n",
    "testim1 = mpimg.imread(carlist[0])\n",
    "testim2 = mpimg.imread(notcarlist[0])\n",
    "print(\"Image shape:\", testim.shape)\n",
    "\n",
    "plt.imshow(testim1)\n",
    "plt.imshow(testim2)"
   ]
  },
  {
   "cell_type": "code",
   "execution_count": null,
   "metadata": {
    "collapsed": true
   },
   "outputs": [],
   "source": []
  }
 ],
 "metadata": {
  "kernelspec": {
   "display_name": "Python 3",
   "language": "python",
   "name": "python3"
  },
  "language_info": {
   "codemirror_mode": {
    "name": "ipython",
    "version": 3
   },
   "file_extension": ".py",
   "mimetype": "text/x-python",
   "name": "python",
   "nbconvert_exporter": "python",
   "pygments_lexer": "ipython3",
   "version": "3.5.2"
  },
  "widgets": {
   "state": {},
   "version": "1.1.2"
  }
 },
 "nbformat": 4,
 "nbformat_minor": 2
}
